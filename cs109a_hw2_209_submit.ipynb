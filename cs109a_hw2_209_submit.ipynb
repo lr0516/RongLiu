{
 "cells": [
  {
   "cell_type": "markdown",
   "metadata": {},
   "source": [
    "# <img style=\"float: left; padding-right: 10px; width: 45px\" src=\"https://raw.githubusercontent.com/Harvard-IACS/2018-CS109A/master/content/styles/iacs.png\"> CS109A Introduction to Data Science: \n",
    "\n",
    "## Homework 2  AC 209 : Linear and k-NN Regression\n",
    "\n",
    "\n",
    "**Harvard University**<br/>\n",
    "**Fall 2018**<br/>\n",
    "**Instructors**: Pavlos Protopapas, Kevin Rader\n",
    "\n",
    "<hr style=\"height:2pt\">\n"
   ]
  },
  {
   "cell_type": "code",
   "execution_count": 1,
   "metadata": {},
   "outputs": [
    {
     "data": {
      "text/html": [
       "<style>\n",
       "h1 { \n",
       "    padding-top: 25px;\n",
       "    padding-bottom: 25px;\n",
       "    text-align: left; \n",
       "    padding-left: 10px;\n",
       "    background-color: #DDDDDD; \n",
       "    color: black;\n",
       "}\n",
       "h2 { \n",
       "    padding-top: 10px;\n",
       "    padding-bottom: 10px;\n",
       "    text-align: left; \n",
       "    padding-left: 5px;\n",
       "    background-color: #EEEEEE; \n",
       "    color: black;\n",
       "}\n",
       "\n",
       "div.exercise {\n",
       "\tbackground-color: #ffcccc;\n",
       "\tborder-color: #E9967A; \t\n",
       "\tborder-left: 5px solid #800080; \n",
       "\tpadding: 0.5em;\n",
       "}\n",
       "div.theme {\n",
       "\tbackground-color: #DDDDDD;\n",
       "\tborder-color: #E9967A; \t\n",
       "\tborder-left: 5px solid #800080; \n",
       "\tpadding: 0.5em;\n",
       "\tfont-size: 18pt;\n",
       "}\n",
       "p.q1 { \n",
       "    padding-top: 5px;\n",
       "    padding-bottom: 5px;\n",
       "    text-align: left; \n",
       "    padding-left: 5px;\n",
       "    background-color: #EEEEEE; \n",
       "    color: black;\n",
       "}\n",
       "header {\n",
       "   padding-top: 35px;\n",
       "    padding-bottom: 35px;\n",
       "    text-align: left; \n",
       "    padding-left: 10px;\n",
       "    background-color: #DDDDDD; \n",
       "    color: black;\n",
       "}\n",
       "</style>\n",
       "\n"
      ],
      "text/plain": [
       "<IPython.core.display.HTML object>"
      ]
     },
     "execution_count": 1,
     "metadata": {},
     "output_type": "execute_result"
    }
   ],
   "source": [
    "#RUN THIS CELL \n",
    "import requests\n",
    "from IPython.core.display import HTML\n",
    "styles = requests.get(\"https://raw.githubusercontent.com/Harvard-IACS/2018-CS109A/master/content/styles/cs109.css\").text\n",
    "HTML(styles)"
   ]
  },
  {
   "cell_type": "markdown",
   "metadata": {},
   "source": [
    "### INSTRUCTIONS\n",
    "\n",
    "- To submit your assignment follow the instructions given in canvas.\n",
    "- Restart the kernel and run the whole notebook again before you submit. \n",
    "- If you submit individually and you have worked with someone, please include the name of your [one] partner below. \n",
    "- As much as possible, try and stick to the hints and functions we import at the top of the homework, as those are the ideas and tools the class supports and is aiming to teach. And if a problem specifies a particular library you're required to use that library, and possibly others from the import list."
   ]
  },
  {
   "cell_type": "markdown",
   "metadata": {},
   "source": [
    "Names of people you have worked with goes here: "
   ]
  },
  {
   "cell_type": "markdown",
   "metadata": {},
   "source": [
    "<hr style=\"height:2pt\">"
   ]
  },
  {
   "cell_type": "code",
   "execution_count": 2,
   "metadata": {
    "scrolled": true
   },
   "outputs": [],
   "source": [
    "import numpy as np\n",
    "import pandas as pd\n",
    "import matplotlib\n",
    "import matplotlib.pyplot as plt\n",
    "from sklearn.metrics import r2_score\n",
    "from sklearn.neighbors import KNeighborsRegressor\n",
    "from sklearn.linear_model import LinearRegression\n",
    "from sklearn.model_selection import train_test_split\n",
    "import statsmodels.api as sm\n",
    "from statsmodels.api import OLS\n",
    "%matplotlib inline"
   ]
  },
  {
   "cell_type": "markdown",
   "metadata": {},
   "source": [
    "<hr style=\"height:2pt\">\n",
    "\n",
    "\n",
    "<div class='theme'>Linear Algebra, Accuracy, and Confidence Intervals </div>\n",
    "In this part of the homework, you will see how _uncertainty_ in the beta coefficients can directly impact our ability to make predictions with a linear regression model and how in general we can do inference on the predictors. You will explore a linear-algebra formula that tells us how accurately we've learned the beta parameters, going beyond simple SEs to describe the joint distribution of the betas. You'll see that the structure of the $X$ data can strongly impact how well we can learn the betas, and you'll determine desirable prroperties of the $X$ data.\n",
    "\n",
    "The data for this supplement are the same as in lab1, and are imported for you in the cells below."
   ]
  },
  {
   "cell_type": "code",
   "execution_count": 3,
   "metadata": {},
   "outputs": [
    {
     "data": {
      "text/html": [
       "<div>\n",
       "<style scoped>\n",
       "    .dataframe tbody tr th:only-of-type {\n",
       "        vertical-align: middle;\n",
       "    }\n",
       "\n",
       "    .dataframe tbody tr th {\n",
       "        vertical-align: top;\n",
       "    }\n",
       "\n",
       "    .dataframe thead th {\n",
       "        text-align: right;\n",
       "    }\n",
       "</style>\n",
       "<table border=\"1\" class=\"dataframe\">\n",
       "  <thead>\n",
       "    <tr style=\"text-align: right;\">\n",
       "      <th></th>\n",
       "      <th>name</th>\n",
       "      <th>mpg</th>\n",
       "      <th>cyl</th>\n",
       "      <th>disp</th>\n",
       "      <th>hp</th>\n",
       "      <th>drat</th>\n",
       "      <th>wt</th>\n",
       "      <th>qsec</th>\n",
       "      <th>vs</th>\n",
       "      <th>am</th>\n",
       "      <th>gear</th>\n",
       "      <th>carb</th>\n",
       "    </tr>\n",
       "  </thead>\n",
       "  <tbody>\n",
       "    <tr>\n",
       "      <th>0</th>\n",
       "      <td>Mazda RX4</td>\n",
       "      <td>21.0</td>\n",
       "      <td>6</td>\n",
       "      <td>160.0</td>\n",
       "      <td>110</td>\n",
       "      <td>3.90</td>\n",
       "      <td>2.620</td>\n",
       "      <td>16.46</td>\n",
       "      <td>0</td>\n",
       "      <td>1</td>\n",
       "      <td>4</td>\n",
       "      <td>4</td>\n",
       "    </tr>\n",
       "    <tr>\n",
       "      <th>1</th>\n",
       "      <td>Mazda RX4 Wag</td>\n",
       "      <td>21.0</td>\n",
       "      <td>6</td>\n",
       "      <td>160.0</td>\n",
       "      <td>110</td>\n",
       "      <td>3.90</td>\n",
       "      <td>2.875</td>\n",
       "      <td>17.02</td>\n",
       "      <td>0</td>\n",
       "      <td>1</td>\n",
       "      <td>4</td>\n",
       "      <td>4</td>\n",
       "    </tr>\n",
       "    <tr>\n",
       "      <th>2</th>\n",
       "      <td>Datsun 710</td>\n",
       "      <td>22.8</td>\n",
       "      <td>4</td>\n",
       "      <td>108.0</td>\n",
       "      <td>93</td>\n",
       "      <td>3.85</td>\n",
       "      <td>2.320</td>\n",
       "      <td>18.61</td>\n",
       "      <td>1</td>\n",
       "      <td>1</td>\n",
       "      <td>4</td>\n",
       "      <td>1</td>\n",
       "    </tr>\n",
       "    <tr>\n",
       "      <th>3</th>\n",
       "      <td>Hornet 4 Drive</td>\n",
       "      <td>21.4</td>\n",
       "      <td>6</td>\n",
       "      <td>258.0</td>\n",
       "      <td>110</td>\n",
       "      <td>3.08</td>\n",
       "      <td>3.215</td>\n",
       "      <td>19.44</td>\n",
       "      <td>1</td>\n",
       "      <td>0</td>\n",
       "      <td>3</td>\n",
       "      <td>1</td>\n",
       "    </tr>\n",
       "    <tr>\n",
       "      <th>4</th>\n",
       "      <td>Hornet Sportabout</td>\n",
       "      <td>18.7</td>\n",
       "      <td>8</td>\n",
       "      <td>360.0</td>\n",
       "      <td>175</td>\n",
       "      <td>3.15</td>\n",
       "      <td>3.440</td>\n",
       "      <td>17.02</td>\n",
       "      <td>0</td>\n",
       "      <td>0</td>\n",
       "      <td>3</td>\n",
       "      <td>2</td>\n",
       "    </tr>\n",
       "  </tbody>\n",
       "</table>\n",
       "</div>"
      ],
      "text/plain": [
       "                name   mpg  cyl   disp   hp  drat     wt   qsec  vs  am  gear  \\\n",
       "0          Mazda RX4  21.0    6  160.0  110  3.90  2.620  16.46   0   1     4   \n",
       "1      Mazda RX4 Wag  21.0    6  160.0  110  3.90  2.875  17.02   0   1     4   \n",
       "2         Datsun 710  22.8    4  108.0   93  3.85  2.320  18.61   1   1     4   \n",
       "3     Hornet 4 Drive  21.4    6  258.0  110  3.08  3.215  19.44   1   0     3   \n",
       "4  Hornet Sportabout  18.7    8  360.0  175  3.15  3.440  17.02   0   0     3   \n",
       "\n",
       "   carb  \n",
       "0     4  \n",
       "1     4  \n",
       "2     1  \n",
       "3     1  \n",
       "4     2  "
      ]
     },
     "execution_count": 3,
     "metadata": {},
     "output_type": "execute_result"
    }
   ],
   "source": [
    "import pandas as pd\n",
    "import statsmodels.api as sm\n",
    "import numpy as np\n",
    "import matplotlib.pyplot as plt\n",
    "\n",
    "df=pd.read_csv(\"data/cleaned_mtcars.csv\")\n",
    "df.head()"
   ]
  },
  {
   "cell_type": "code",
   "execution_count": 4,
   "metadata": {},
   "outputs": [],
   "source": [
    "y = df[['mpg']].values\n",
    "X = df[['cyl','disp','hp','wt','qsec']]\n",
    "X = sm.add_constant(X)"
   ]
  },
  {
   "cell_type": "markdown",
   "metadata": {},
   "source": [
    "---- \n"
   ]
  },
  {
   "cell_type": "markdown",
   "metadata": {},
   "source": [
    "<div class='exercise'> <b> Question 5 [4 pts] </b> </div>\n",
    "\n",
    "**5.1** Fit a simple linear regression model predicting `mpg` via `disp`. Use the `FittedOLS.get_prediction().summary_frame()` method to access the confidence intervals for our prediction at various values of `disp` and make a well-labeled plot showing\n",
    " 1. The observed values of `disp` and `mpg`.\n",
    " 2. The regression line.\n",
    " 3. The upper and lower bounds of the 95% confidence interval for the _predicted_ (not the observed) `mpg` at any given displacement.\n",
    " \n",
    "**5.2** Why do we have a confidence interval for our predicted value? Why isn't the prediction just a single number?\n",
    "\n",
    "**5.3** Someone asks what `mpg` you would predict for a `disp` value of 400. What do you tell them? paying attention to the confidence interval (5.1.3) above?\n",
    "\n",
    "**5.4** Why does the 95% confidence interval for the predicted `mpg` appear to curve as we move away from the data's center? "
   ]
  },
  {
   "cell_type": "markdown",
   "metadata": {},
   "source": [
    "### Answers"
   ]
  },
  {
   "cell_type": "markdown",
   "metadata": {},
   "source": [
    "**5.1 Fit a linear regression model predicting `mpg` via `disp`. Use the `FittedOLS.get_prediction().summary_frame()` method to access the confidence intervals for our prediction at various levels of `disp` and make a well-labled plot showing**\n",
    " 1. **The observed values of weight and mpg**\n",
    " 2. **The regression line**\n",
    " 3. **The upper and lower bounds of the 95% confidence interval for the _mean/predicted mpg_ at any given displacement**\n",
    " "
   ]
  },
  {
   "cell_type": "code",
   "execution_count": 5,
   "metadata": {
    "scrolled": true
   },
   "outputs": [
    {
     "data": {
      "text/html": [
       "<div>\n",
       "<style scoped>\n",
       "    .dataframe tbody tr th:only-of-type {\n",
       "        vertical-align: middle;\n",
       "    }\n",
       "\n",
       "    .dataframe tbody tr th {\n",
       "        vertical-align: top;\n",
       "    }\n",
       "\n",
       "    .dataframe thead th {\n",
       "        text-align: right;\n",
       "    }\n",
       "</style>\n",
       "<table border=\"1\" class=\"dataframe\">\n",
       "  <thead>\n",
       "    <tr style=\"text-align: right;\">\n",
       "      <th></th>\n",
       "      <th>mean</th>\n",
       "      <th>mean_se</th>\n",
       "      <th>mean_ci_lower</th>\n",
       "      <th>mean_ci_upper</th>\n",
       "      <th>obs_ci_lower</th>\n",
       "      <th>obs_ci_upper</th>\n",
       "    </tr>\n",
       "  </thead>\n",
       "  <tbody>\n",
       "    <tr>\n",
       "      <th>0</th>\n",
       "      <td>23.005436</td>\n",
       "      <td>0.664391</td>\n",
       "      <td>21.648568</td>\n",
       "      <td>24.362303</td>\n",
       "      <td>16.227868</td>\n",
       "      <td>29.783003</td>\n",
       "    </tr>\n",
       "    <tr>\n",
       "      <th>1</th>\n",
       "      <td>23.005436</td>\n",
       "      <td>0.664391</td>\n",
       "      <td>21.648568</td>\n",
       "      <td>24.362303</td>\n",
       "      <td>16.227868</td>\n",
       "      <td>29.783003</td>\n",
       "    </tr>\n",
       "    <tr>\n",
       "      <th>2</th>\n",
       "      <td>25.148622</td>\n",
       "      <td>0.815316</td>\n",
       "      <td>23.483523</td>\n",
       "      <td>26.813720</td>\n",
       "      <td>18.302683</td>\n",
       "      <td>31.994561</td>\n",
       "    </tr>\n",
       "    <tr>\n",
       "      <th>3</th>\n",
       "      <td>18.966354</td>\n",
       "      <td>0.588977</td>\n",
       "      <td>17.763503</td>\n",
       "      <td>20.169205</td>\n",
       "      <td>12.217933</td>\n",
       "      <td>25.714774</td>\n",
       "    </tr>\n",
       "    <tr>\n",
       "      <th>4</th>\n",
       "      <td>14.762412</td>\n",
       "      <td>0.837509</td>\n",
       "      <td>13.051990</td>\n",
       "      <td>16.472833</td>\n",
       "      <td>7.905308</td>\n",
       "      <td>21.619515</td>\n",
       "    </tr>\n",
       "  </tbody>\n",
       "</table>\n",
       "</div>"
      ],
      "text/plain": [
       "        mean   mean_se  mean_ci_lower  mean_ci_upper  obs_ci_lower  \\\n",
       "0  23.005436  0.664391      21.648568      24.362303     16.227868   \n",
       "1  23.005436  0.664391      21.648568      24.362303     16.227868   \n",
       "2  25.148622  0.815316      23.483523      26.813720     18.302683   \n",
       "3  18.966354  0.588977      17.763503      20.169205     12.217933   \n",
       "4  14.762412  0.837509      13.051990      16.472833      7.905308   \n",
       "\n",
       "   obs_ci_upper  \n",
       "0     29.783003  \n",
       "1     29.783003  \n",
       "2     31.994561  \n",
       "3     25.714774  \n",
       "4     21.619515  "
      ]
     },
     "execution_count": 5,
     "metadata": {},
     "output_type": "execute_result"
    }
   ],
   "source": [
    "# your code here \n",
    "df = df.rename(columns={\"Unnamed: 0\":\"car name\"})\n",
    "df.head()\n",
    "y_train = np.array(df.mpg)\n",
    "x_train = np.array(df.disp)\n",
    "x_train = sm.add_constant(x_train)\n",
    "regression = sm.OLS(y_train, x_train).fit()\n",
    "regression.get_prediction(x_train).summary_frame().head()"
   ]
  },
  {
   "cell_type": "code",
   "execution_count": 6,
   "metadata": {},
   "outputs": [
    {
     "data": {
      "text/plain": [
       "<matplotlib.legend.Legend at 0x1c1b745e48>"
      ]
     },
     "execution_count": 6,
     "metadata": {},
     "output_type": "execute_result"
    },
    {
     "data": {
      "image/png": "[encoded data removed]",
      "text/plain": [
       "<Figure size 720x432 with 1 Axes>"
      ]
     },
     "metadata": {},
     "output_type": "display_data"
    }
   ],
   "source": [
    "fig, ax = plt.subplots(1, 1, figsize = (10, 6))\n",
    "fig.suptitle('Linear Regression and Confidence Interval')\n",
    "ax.plot(df.disp, df.mpg, 'o', label='Observed Data')\n",
    "grid = np.linspace(np.min(df.disp), np.max(df.disp), 100)\n",
    "ax.plot(grid, regression.get_prediction(sm.add_constant(grid)).summary_frame()['mean'],label='Regression Line')\n",
    "ax.plot(grid, regression.get_prediction(sm.add_constant(grid)).summary_frame()['mean_ci_lower'], color = 'black',label='CI lower bound')\n",
    "ax.plot(grid, regression.get_prediction(sm.add_constant(grid)).summary_frame()['mean_ci_upper'],'--' , color = 'grey',label='CI upper bound')\n",
    "ax.set_xlabel('disp')\n",
    "ax.set_ylabel('mpg')\n",
    "ax.legend(loc='upper right')"
   ]
  },
  {
   "cell_type": "markdown",
   "metadata": {},
   "source": [
    "**5.2 Why do we have a confidience interval for our predicted value? Why isn't the prediction just a single number?**"
   ]
  },
  {
   "cell_type": "markdown",
   "metadata": {},
   "source": [
    "*your answer here*\n",
    "\n",
    "There are errors in our model and we can not get rid of them, so things do not happen for sure. We use a confidence interval to grab more information than a single number. We have no confidence that the next observation will fall right onto the single number but we are 95% confident that it will fall into the confidence interval of the predicted value."
   ]
  },
  {
   "cell_type": "markdown",
   "metadata": {},
   "source": [
    "**5.3 Someone asks what `mpg` you would predict for a `disp` value of 400. What do you tell them, paying attention to the confidence interval (5.2.3) above?**"
   ]
  },
  {
   "cell_type": "code",
   "execution_count": 7,
   "metadata": {},
   "outputs": [
    {
     "data": {
      "text/html": [
       "<div>\n",
       "<style scoped>\n",
       "    .dataframe tbody tr th:only-of-type {\n",
       "        vertical-align: middle;\n",
       "    }\n",
       "\n",
       "    .dataframe tbody tr th {\n",
       "        vertical-align: top;\n",
       "    }\n",
       "\n",
       "    .dataframe thead th {\n",
       "        text-align: right;\n",
       "    }\n",
       "</style>\n",
       "<table border=\"1\" class=\"dataframe\">\n",
       "  <thead>\n",
       "    <tr style=\"text-align: right;\">\n",
       "      <th></th>\n",
       "      <th>mean</th>\n",
       "      <th>mean_se</th>\n",
       "      <th>mean_ci_lower</th>\n",
       "      <th>mean_ci_upper</th>\n",
       "      <th>obs_ci_lower</th>\n",
       "      <th>obs_ci_upper</th>\n",
       "    </tr>\n",
       "  </thead>\n",
       "  <tbody>\n",
       "    <tr>\n",
       "      <th>0</th>\n",
       "      <td>13.113807</td>\n",
       "      <td>0.983136</td>\n",
       "      <td>11.105976</td>\n",
       "      <td>15.121638</td>\n",
       "      <td>6.176537</td>\n",
       "      <td>20.051077</td>\n",
       "    </tr>\n",
       "  </tbody>\n",
       "</table>\n",
       "</div>"
      ],
      "text/plain": [
       "        mean   mean_se  mean_ci_lower  mean_ci_upper  obs_ci_lower  \\\n",
       "0  13.113807  0.983136      11.105976      15.121638      6.176537   \n",
       "\n",
       "   obs_ci_upper  \n",
       "0     20.051077  "
      ]
     },
     "execution_count": 7,
     "metadata": {},
     "output_type": "execute_result"
    }
   ],
   "source": [
    "# your code here\n",
    "x_test = np.array([1, 400])\n",
    "regression.get_prediction(x_test).summary_frame()"
   ]
  },
  {
   "cell_type": "markdown",
   "metadata": {},
   "source": [
    "*your answer here*\n",
    "\n",
    "For a disp value of 400, the 95% confidence interval of expectation of mpg is (11.105976, 15.121638). But if we just do one experiment, the 95% prediction interval of the newly picked mpg with disp 400 is (6.176537, 20.051077)."
   ]
  },
  {
   "cell_type": "markdown",
   "metadata": {},
   "source": [
    "**5.4 Why does the 95% confidence interval for the predicted `mpg` appear to curve as we move away from the data's center?**"
   ]
  },
  {
   "cell_type": "markdown",
   "metadata": {},
   "source": [
    "*your answer here*\n",
    "\n",
    "The variability of the sampling distribution of the predicted value $\\hat{y_{i}}$ is affected by how far the specific predictor $x_{i}$ is away from the mean predictor value $\\bar{x}$. \n",
    "\n",
    "All possible regression lines generated by OLS go through the data's center $(\\bar{x}, \\bar{y})$. However, they may have different slopes. If we imagine two different regression lines intersecting at the data's center, the y-coordinates are close when the x-coordinates are close to the intersection $(\\bar{x}, \\bar{y})$, but the ends of the regression lines extend to different directions. Therefore, the prediction interval gets wider as the x-coordinate moves away from $\\bar{x}$."
   ]
  },
  {
   "cell_type": "markdown",
   "metadata": {},
   "source": [
    "<div class='exercise'><b> Question 6 [8 pts] </b></div>\n",
    "Hopefully, in the question above you recognized that uncertainty in the beta coefficients could impact the certainty of our predictions. In this question and the next, we're going to explore properties of the data that can make us more or less certain of the values of the betas.\n",
    "\n",
    "**6.1** Fit a multiple linear regression to the full X matrix (on the car data). That is, predict `mpg` using `cyl`,`disp`,`hp`,`wt`, and `qsec`.\n",
    "\n",
    "**6.2** The formula for the covariance of the vector of betas, assuming the linear regression model holds, is:\n",
    "$${\\rm Cov}(\\beta) = \\sigma^2\\left(X^TX\\right)^{-1}.$$\n",
    "Compute and display this matrix for the car data. \n",
    "\n",
    "**6.3** Verify that the SE reported by statsmodels matches the square root of the variance listed for that variable in your calculated covariance matrix.\n",
    "\n",
    "**6.4** Interpret the matrix formula above. At a minimum, discuss what affects our ability to estimate the betas accurately. When would you expect two betas to have large/small covariances? [This is intended as an open-ended question. You will be graded only on the specified minimum].\n",
    "\n",
    "**Hint**: we don't know $\\sigma^2$, but we can estimate them.<BR>\n",
    "**Hint**: remember that numpy's normal distribution expects a standard deviation and not a variance."
   ]
  },
  {
   "cell_type": "markdown",
   "metadata": {},
   "source": [
    "### Answers"
   ]
  },
  {
   "cell_type": "markdown",
   "metadata": {},
   "source": [
    "**6.1 Fit a multiple linear regression to the full X matrix (on the car data). That is, predict `mpg` using `cyl`,`disp`,`hp`,`wt`, and `qsec`.**"
   ]
  },
  {
   "cell_type": "code",
   "execution_count": 8,
   "metadata": {},
   "outputs": [],
   "source": [
    "# your code here\n",
    "regression7 = sm.OLS(y, X).fit()"
   ]
  },
  {
   "cell_type": "markdown",
   "metadata": {},
   "source": [
    "**6.2 The formula for the covariance of the vector of betas, assuming the linear regression model holds, is:\n",
    "$${\\rm Cov}(\\beta) = \\sigma^2\\left(X^TX\\right)^{-1}.$$\n",
    "Compute and display this matrix for the car data. **"
   ]
  },
  {
   "cell_type": "code",
   "execution_count": 9,
   "metadata": {},
   "outputs": [
    {
     "data": {
      "text/plain": [
       "matrix([[ 7.99244198e+01, -3.07189521e+00,  1.53550715e-02,\n",
       "         -6.81044250e-02,  4.02998464e+00, -3.76891870e+00],\n",
       "        [-3.07189521e+00,  4.15656681e-01, -3.33772420e-03,\n",
       "         -1.01645367e-03, -1.38010017e-01,  1.04389341e-01],\n",
       "        [ 1.53550715e-02, -3.33772420e-03,  1.15201605e-04,\n",
       "         -1.98165508e-05, -7.19076905e-03,  2.66624200e-04],\n",
       "        [-6.81044250e-02, -1.01645367e-03, -1.98165508e-05,\n",
       "          1.89384176e-04, -3.92076737e-03,  3.57445991e-03],\n",
       "        [ 4.02998464e+00, -1.38010017e-01, -7.19076905e-03,\n",
       "         -3.92076737e-03,  1.27438199e+00, -2.82476803e-01],\n",
       "        [-3.76891870e+00,  1.04389341e-01,  2.66624200e-04,\n",
       "          3.57445991e-03, -2.82476803e-01,  1.93064697e-01]])"
      ]
     },
     "execution_count": 9,
     "metadata": {},
     "output_type": "execute_result"
    }
   ],
   "source": [
    "# your code here\n",
    "y_pred = regression7.get_prediction(X).summary_frame()['mean']\n",
    "s = []\n",
    "for i in range(len(y)):\n",
    "    s.append(np.power((y_pred[i] -y[i]), 2))\n",
    "squaredse = np.mean(s)\n",
    "cov = squaredse*(np.matrix(X).T*np.matrix(X)).I\n",
    "cov"
   ]
  },
  {
   "cell_type": "markdown",
   "metadata": {},
   "source": [
    "**6.3 Verify that the SE reported by statsmodels matches the square root of the variance listed for that variable in your calculated covariance matrix.**"
   ]
  },
  {
   "cell_type": "code",
   "execution_count": 10,
   "metadata": {},
   "outputs": [
    {
     "name": "stdout",
     "output_type": "stream",
     "text": [
      "[8.940045852499194, 0.6447144182055352, 0.010733201053817986, 0.013761692327588696, 1.128885288315206, 0.4393912805583459]\n"
     ]
    }
   ],
   "source": [
    "# your code here\n",
    "sbeta = []\n",
    "for i in range(6):\n",
    "    sbeta.append(np.sqrt(cov[i,i]))\n",
    "print(sbeta)"
   ]
  },
  {
   "cell_type": "code",
   "execution_count": 11,
   "metadata": {},
   "outputs": [
    {
     "data": {
      "text/html": [
       "<table class=\"simpletable\">\n",
       "<caption>OLS Regression Results</caption>\n",
       "<tr>\n",
       "  <th>Dep. Variable:</th>            <td>y</td>        <th>  R-squared:         </th> <td>   0.850</td>\n",
       "</tr>\n",
       "<tr>\n",
       "  <th>Model:</th>                   <td>OLS</td>       <th>  Adj. R-squared:    </th> <td>   0.821</td>\n",
       "</tr>\n",
       "<tr>\n",
       "  <th>Method:</th>             <td>Least Squares</td>  <th>  F-statistic:       </th> <td>   29.51</td>\n",
       "</tr>\n",
       "<tr>\n",
       "  <th>Date:</th>             <td>Wed, 26 Sep 2018</td> <th>  Prob (F-statistic):</th> <td>6.18e-10</td>\n",
       "</tr>\n",
       "<tr>\n",
       "  <th>Time:</th>                 <td>15:21:23</td>     <th>  Log-Likelihood:    </th> <td> -72.003</td>\n",
       "</tr>\n",
       "<tr>\n",
       "  <th>No. Observations:</th>      <td>    32</td>      <th>  AIC:               </th> <td>   156.0</td>\n",
       "</tr>\n",
       "<tr>\n",
       "  <th>Df Residuals:</th>          <td>    26</td>      <th>  BIC:               </th> <td>   164.8</td>\n",
       "</tr>\n",
       "<tr>\n",
       "  <th>Df Model:</th>              <td>     5</td>      <th>                     </th>     <td> </td>   \n",
       "</tr>\n",
       "<tr>\n",
       "  <th>Covariance Type:</th>      <td>nonrobust</td>    <th>                     </th>     <td> </td>   \n",
       "</tr>\n",
       "</table>\n",
       "<table class=\"simpletable\">\n",
       "<tr>\n",
       "    <td></td>       <th>coef</th>     <th>std err</th>      <th>t</th>      <th>P>|t|</th>  <th>[0.025</th>    <th>0.975]</th>  \n",
       "</tr>\n",
       "<tr>\n",
       "  <th>const</th> <td>   35.8736</td> <td>    9.918</td> <td>    3.617</td> <td> 0.001</td> <td>   15.487</td> <td>   56.261</td>\n",
       "</tr>\n",
       "<tr>\n",
       "  <th>cyl</th>   <td>   -1.1561</td> <td>    0.715</td> <td>   -1.616</td> <td> 0.118</td> <td>   -2.626</td> <td>    0.314</td>\n",
       "</tr>\n",
       "<tr>\n",
       "  <th>disp</th>  <td>    0.0119</td> <td>    0.012</td> <td>    1.004</td> <td> 0.325</td> <td>   -0.013</td> <td>    0.036</td>\n",
       "</tr>\n",
       "<tr>\n",
       "  <th>hp</th>    <td>   -0.0158</td> <td>    0.015</td> <td>   -1.037</td> <td> 0.309</td> <td>   -0.047</td> <td>    0.016</td>\n",
       "</tr>\n",
       "<tr>\n",
       "  <th>wt</th>    <td>   -4.2253</td> <td>    1.252</td> <td>   -3.374</td> <td> 0.002</td> <td>   -6.800</td> <td>   -1.651</td>\n",
       "</tr>\n",
       "<tr>\n",
       "  <th>qsec</th>  <td>    0.2538</td> <td>    0.487</td> <td>    0.521</td> <td> 0.607</td> <td>   -0.748</td> <td>    1.256</td>\n",
       "</tr>\n",
       "</table>\n",
       "<table class=\"simpletable\">\n",
       "<tr>\n",
       "  <th>Omnibus:</th>       <td> 4.925</td> <th>  Durbin-Watson:     </th> <td>   1.682</td>\n",
       "</tr>\n",
       "<tr>\n",
       "  <th>Prob(Omnibus):</th> <td> 0.085</td> <th>  Jarque-Bera (JB):  </th> <td>   3.534</td>\n",
       "</tr>\n",
       "<tr>\n",
       "  <th>Skew:</th>          <td> 0.782</td> <th>  Prob(JB):          </th> <td>   0.171</td>\n",
       "</tr>\n",
       "<tr>\n",
       "  <th>Kurtosis:</th>      <td> 3.453</td> <th>  Cond. No.          </th> <td>6.73e+03</td>\n",
       "</tr>\n",
       "</table><br/><br/>Warnings:<br/>[1] Standard Errors assume that the covariance matrix of the errors is correctly specified.<br/>[2] The condition number is large, 6.73e+03. This might indicate that there are<br/>strong multicollinearity or other numerical problems."
      ],
      "text/plain": [
       "<class 'statsmodels.iolib.summary.Summary'>\n",
       "\"\"\"\n",
       "                            OLS Regression Results                            \n",
       "==============================================================================\n",
       "Dep. Variable:                      y   R-squared:                       0.850\n",
       "Model:                            OLS   Adj. R-squared:                  0.821\n",
       "Method:                 Least Squares   F-statistic:                     29.51\n",
       "Date:                Wed, 26 Sep 2018   Prob (F-statistic):           6.18e-10\n",
       "Time:                        15:21:23   Log-Likelihood:                -72.003\n",
       "No. Observations:                  32   AIC:                             156.0\n",
       "Df Residuals:                      26   BIC:                             164.8\n",
       "Df Model:                           5                                         \n",
       "Covariance Type:            nonrobust                                         \n",
       "==============================================================================\n",
       "                 coef    std err          t      P>|t|      [0.025      0.975]\n",
       "------------------------------------------------------------------------------\n",
       "const         35.8736      9.918      3.617      0.001      15.487      56.261\n",
       "cyl           -1.1561      0.715     -1.616      0.118      -2.626       0.314\n",
       "disp           0.0119      0.012      1.004      0.325      -0.013       0.036\n",
       "hp            -0.0158      0.015     -1.037      0.309      -0.047       0.016\n",
       "wt            -4.2253      1.252     -3.374      0.002      -6.800      -1.651\n",
       "qsec           0.2538      0.487      0.521      0.607      -0.748       1.256\n",
       "==============================================================================\n",
       "Omnibus:                        4.925   Durbin-Watson:                   1.682\n",
       "Prob(Omnibus):                  0.085   Jarque-Bera (JB):                3.534\n",
       "Skew:                           0.782   Prob(JB):                        0.171\n",
       "Kurtosis:                       3.453   Cond. No.                     6.73e+03\n",
       "==============================================================================\n",
       "\n",
       "Warnings:\n",
       "[1] Standard Errors assume that the covariance matrix of the errors is correctly specified.\n",
       "[2] The condition number is large, 6.73e+03. This might indicate that there are\n",
       "strong multicollinearity or other numerical problems.\n",
       "\"\"\""
      ]
     },
     "execution_count": 11,
     "metadata": {},
     "output_type": "execute_result"
    }
   ],
   "source": [
    "regression7.summary()"
   ]
  },
  {
   "cell_type": "markdown",
   "metadata": {},
   "source": [
    "*your answer here*\n",
    "\n",
    "The calculation result from the matrix is $[8.940045852499194, 0.6447144182055352, 0.010733201053817986, 0.013761692327588696, 1.128885288315206, 0.4393912805583459]$. \n",
    "\n",
    "The column of 'std err' in the regression result is $[9.918, 0.715, 0.012, 0.015, 1.252, 0.487]$. \n",
    "\n",
    "It is clear that they are quite close."
   ]
  },
  {
   "cell_type": "markdown",
   "metadata": {},
   "source": [
    "**6.4 Interpret the matrix formula above. At a minimum, discuss what affects our ability to accurately estimate the betas. When would you expect two betas to have large/small covariances? [This is intended as an open-ended question. You will only be graded on the specified minimum].**"
   ]
  },
  {
   "cell_type": "markdown",
   "metadata": {},
   "source": [
    "*your answer here*\n",
    "\n",
    "The collinearity between  independent variables would affect our ability to estimate the betas. We expect two betas to have large covariances if there is a strong linear relationship between the two independent variables, which makes the betas difficult to estimate in regression."
   ]
  },
  {
   "cell_type": "markdown",
   "metadata": {},
   "source": [
    "<div class='exercise'> <b> Question 7 [12 pts]: What affects our knowledge of the betas? </b></div> \n",
    "\n",
    "\n",
    "**7.1** Create a separate dataset `edit1` with a new column `noise` that is totally independent of the other columns (random values from an exponential distribution). What effects do you see on our ability to estimate the betas?\n",
    "\n",
    "**7.2** Create a separate dataset `edit2` with a new column `ratio` that is the ratio of a car's horsepower to its weight. What change do you see in our certainty about weight's effect on mpg?\n",
    "\n",
    "**7.3** Create a separate dataset `edit3` with a new column `combo` that is horsepower+displacement+weight+ Normal(0,.01) noise. How well can we estimate the betas for this dataset, and which ones are correlated?\n",
    "\n",
    "**7.4** If you could choose the different features in your data (either because you're running a lab experiment manipulating the X values, or by deciding which columns to measure/keep), how would you like your features to relate? Specifically, how can you get as good an estimate of the betas as possible?\n",
    "\n",
    "**Hint**: Should introducing pure noise give us meaningfully more accurate beta values? <br>\n",
    "**Hint**: What happens if $X^TX$ is diagonal?"
   ]
  },
  {
   "cell_type": "markdown",
   "metadata": {
    "collapsed": true
   },
   "source": [
    "### Answers\n",
    "\n",
    "**7.1  Create a separate dataset `edit1` with a new column `noise` that is totally independent of the other columns (random values from an exponential distribution) ... **"
   ]
  },
  {
   "cell_type": "code",
   "execution_count": 12,
   "metadata": {},
   "outputs": [
    {
     "data": {
      "text/html": [
       "<table class=\"simpletable\">\n",
       "<caption>OLS Regression Results</caption>\n",
       "<tr>\n",
       "  <th>Dep. Variable:</th>            <td>y</td>        <th>  R-squared:         </th> <td>   0.852</td>\n",
       "</tr>\n",
       "<tr>\n",
       "  <th>Model:</th>                   <td>OLS</td>       <th>  Adj. R-squared:    </th> <td>   0.817</td>\n",
       "</tr>\n",
       "<tr>\n",
       "  <th>Method:</th>             <td>Least Squares</td>  <th>  F-statistic:       </th> <td>   24.07</td>\n",
       "</tr>\n",
       "<tr>\n",
       "  <th>Date:</th>             <td>Wed, 26 Sep 2018</td> <th>  Prob (F-statistic):</th> <td>2.99e-09</td>\n",
       "</tr>\n",
       "<tr>\n",
       "  <th>Time:</th>                 <td>15:21:23</td>     <th>  Log-Likelihood:    </th> <td> -71.762</td>\n",
       "</tr>\n",
       "<tr>\n",
       "  <th>No. Observations:</th>      <td>    32</td>      <th>  AIC:               </th> <td>   157.5</td>\n",
       "</tr>\n",
       "<tr>\n",
       "  <th>Df Residuals:</th>          <td>    25</td>      <th>  BIC:               </th> <td>   167.8</td>\n",
       "</tr>\n",
       "<tr>\n",
       "  <th>Df Model:</th>              <td>     6</td>      <th>                     </th>     <td> </td>   \n",
       "</tr>\n",
       "<tr>\n",
       "  <th>Covariance Type:</th>      <td>nonrobust</td>    <th>                     </th>     <td> </td>   \n",
       "</tr>\n",
       "</table>\n",
       "<table class=\"simpletable\">\n",
       "<tr>\n",
       "    <td></td>       <th>coef</th>     <th>std err</th>      <th>t</th>      <th>P>|t|</th>  <th>[0.025</th>    <th>0.975]</th>  \n",
       "</tr>\n",
       "<tr>\n",
       "  <th>const</th> <td>   37.6863</td> <td>   10.462</td> <td>    3.602</td> <td> 0.001</td> <td>   16.139</td> <td>   59.233</td>\n",
       "</tr>\n",
       "<tr>\n",
       "  <th>cyl</th>   <td>   -1.2787</td> <td>    0.751</td> <td>   -1.703</td> <td> 0.101</td> <td>   -2.825</td> <td>    0.268</td>\n",
       "</tr>\n",
       "<tr>\n",
       "  <th>disp</th>  <td>    0.0113</td> <td>    0.012</td> <td>    0.933</td> <td> 0.360</td> <td>   -0.014</td> <td>    0.036</td>\n",
       "</tr>\n",
       "<tr>\n",
       "  <th>hp</th>    <td>   -0.0139</td> <td>    0.016</td> <td>   -0.885</td> <td> 0.385</td> <td>   -0.046</td> <td>    0.019</td>\n",
       "</tr>\n",
       "<tr>\n",
       "  <th>wt</th>    <td>   -4.1670</td> <td>    1.271</td> <td>   -3.278</td> <td> 0.003</td> <td>   -6.785</td> <td>   -1.549</td>\n",
       "</tr>\n",
       "<tr>\n",
       "  <th>qsec</th>  <td>    0.1601</td> <td>    0.516</td> <td>    0.310</td> <td> 0.759</td> <td>   -0.903</td> <td>    1.224</td>\n",
       "</tr>\n",
       "<tr>\n",
       "  <th>noise</th> <td>    0.2863</td> <td>    0.465</td> <td>    0.615</td> <td> 0.544</td> <td>   -0.672</td> <td>    1.244</td>\n",
       "</tr>\n",
       "</table>\n",
       "<table class=\"simpletable\">\n",
       "<tr>\n",
       "  <th>Omnibus:</th>       <td> 2.975</td> <th>  Durbin-Watson:     </th> <td>   1.643</td>\n",
       "</tr>\n",
       "<tr>\n",
       "  <th>Prob(Omnibus):</th> <td> 0.226</td> <th>  Jarque-Bera (JB):  </th> <td>   2.255</td>\n",
       "</tr>\n",
       "<tr>\n",
       "  <th>Skew:</th>          <td> 0.650</td> <th>  Prob(JB):          </th> <td>   0.324</td>\n",
       "</tr>\n",
       "<tr>\n",
       "  <th>Kurtosis:</th>      <td> 2.983</td> <th>  Cond. No.          </th> <td>7.02e+03</td>\n",
       "</tr>\n",
       "</table><br/><br/>Warnings:<br/>[1] Standard Errors assume that the covariance matrix of the errors is correctly specified.<br/>[2] The condition number is large, 7.02e+03. This might indicate that there are<br/>strong multicollinearity or other numerical problems."
      ],
      "text/plain": [
       "<class 'statsmodels.iolib.summary.Summary'>\n",
       "\"\"\"\n",
       "                            OLS Regression Results                            \n",
       "==============================================================================\n",
       "Dep. Variable:                      y   R-squared:                       0.852\n",
       "Model:                            OLS   Adj. R-squared:                  0.817\n",
       "Method:                 Least Squares   F-statistic:                     24.07\n",
       "Date:                Wed, 26 Sep 2018   Prob (F-statistic):           2.99e-09\n",
       "Time:                        15:21:23   Log-Likelihood:                -71.762\n",
       "No. Observations:                  32   AIC:                             157.5\n",
       "Df Residuals:                      25   BIC:                             167.8\n",
       "Df Model:                           6                                         \n",
       "Covariance Type:            nonrobust                                         \n",
       "==============================================================================\n",
       "                 coef    std err          t      P>|t|      [0.025      0.975]\n",
       "------------------------------------------------------------------------------\n",
       "const         37.6863     10.462      3.602      0.001      16.139      59.233\n",
       "cyl           -1.2787      0.751     -1.703      0.101      -2.825       0.268\n",
       "disp           0.0113      0.012      0.933      0.360      -0.014       0.036\n",
       "hp            -0.0139      0.016     -0.885      0.385      -0.046       0.019\n",
       "wt            -4.1670      1.271     -3.278      0.003      -6.785      -1.549\n",
       "qsec           0.1601      0.516      0.310      0.759      -0.903       1.224\n",
       "noise          0.2863      0.465      0.615      0.544      -0.672       1.244\n",
       "==============================================================================\n",
       "Omnibus:                        2.975   Durbin-Watson:                   1.643\n",
       "Prob(Omnibus):                  0.226   Jarque-Bera (JB):                2.255\n",
       "Skew:                           0.650   Prob(JB):                        0.324\n",
       "Kurtosis:                       2.983   Cond. No.                     7.02e+03\n",
       "==============================================================================\n",
       "\n",
       "Warnings:\n",
       "[1] Standard Errors assume that the covariance matrix of the errors is correctly specified.\n",
       "[2] The condition number is large, 7.02e+03. This might indicate that there are\n",
       "strong multicollinearity or other numerical problems.\n",
       "\"\"\""
      ]
     },
     "execution_count": 12,
     "metadata": {},
     "output_type": "execute_result"
    }
   ],
   "source": [
    "# your code here\n",
    "edit1 = df.copy()\n",
    "edit1['noise'] = np.random.exponential(1,len(df))\n",
    "y = edit1[['mpg']].values\n",
    "X = edit1[['cyl','disp','hp','wt','qsec','noise']]\n",
    "X = sm.add_constant(X)\n",
    "regression7_1 = sm.OLS(y, X).fit()\n",
    "regression7_1.summary()"
   ]
  },
  {
   "cell_type": "code",
   "execution_count": 13,
   "metadata": {},
   "outputs": [
    {
     "data": {
      "text/plain": [
       "matrix([[ 8.55123959e+01, -3.48463750e+00,  1.26496302e-02,\n",
       "         -5.99963258e-02,  4.18764564e+00, -4.06324443e+00,\n",
       "          1.07077457e+00],\n",
       "        [-3.48463750e+00,  4.40469959e-01, -3.12044760e-03,\n",
       "         -1.48094497e-03, -1.50680270e-01,  1.26540729e-01,\n",
       "         -7.24191347e-02],\n",
       "        [ 1.26496302e-02, -3.12044760e-03,  1.14387411e-04,\n",
       "         -2.21111477e-05, -7.16303394e-03,  3.90678166e-04,\n",
       "         -3.91077127e-04],\n",
       "        [-5.99963258e-02, -1.48094497e-03, -2.21111477e-05,\n",
       "          1.93977029e-04, -3.63447966e-03,  3.15446382e-03,\n",
       "          1.12000852e-03],\n",
       "        [ 4.18764564e+00, -1.50680270e-01, -7.16303394e-03,\n",
       "         -3.63447966e-03,  1.26236526e+00, -2.89522322e-01,\n",
       "          3.43929869e-02],\n",
       "        [-4.06324443e+00,  1.26540729e-01,  3.90678166e-04,\n",
       "          3.15446382e-03, -2.89522322e-01,  2.08308503e-01,\n",
       "         -5.53605250e-02],\n",
       "        [ 1.07077457e+00, -7.24191347e-02, -3.91077127e-04,\n",
       "          1.12000852e-03,  3.43929869e-02, -5.53605250e-02,\n",
       "          1.69100722e-01]])"
      ]
     },
     "execution_count": 13,
     "metadata": {},
     "output_type": "execute_result"
    }
   ],
   "source": [
    "y_pred = regression7_1.get_prediction(X).summary_frame()['mean']\n",
    "s = []\n",
    "for i in range(len(y)):\n",
    "    s.append(np.power((y_pred[i] -y[i]), 2))\n",
    "squaredse = np.mean(s)\n",
    "cov = squaredse*(np.matrix(X).T*np.matrix(X)).I\n",
    "cov"
   ]
  },
  {
   "cell_type": "markdown",
   "metadata": {},
   "source": [
    "*Your answer here*\n",
    "\n",
    "The standard errors of the betas all increase a little bit. In the covariance matrix, the absolute values of most elements also increase, which implies stronger correlations among betas. Therefore, adding a random noise slightly diminishes our ability to estimate the betas"
   ]
  },
  {
   "cell_type": "markdown",
   "metadata": {},
   "source": [
    "**7.2 Create a separate dataset `edit2` with a new column `ratio` that is the ratio of a car's horsepower to its weight ... **"
   ]
  },
  {
   "cell_type": "code",
   "execution_count": 14,
   "metadata": {},
   "outputs": [
    {
     "data": {
      "text/html": [
       "<table class=\"simpletable\">\n",
       "<caption>OLS Regression Results</caption>\n",
       "<tr>\n",
       "  <th>Dep. Variable:</th>            <td>y</td>        <th>  R-squared:         </th> <td>   0.851</td>\n",
       "</tr>\n",
       "<tr>\n",
       "  <th>Model:</th>                   <td>OLS</td>       <th>  Adj. R-squared:    </th> <td>   0.815</td>\n",
       "</tr>\n",
       "<tr>\n",
       "  <th>Method:</th>             <td>Least Squares</td>  <th>  F-statistic:       </th> <td>   23.73</td>\n",
       "</tr>\n",
       "<tr>\n",
       "  <th>Date:</th>             <td>Wed, 26 Sep 2018</td> <th>  Prob (F-statistic):</th> <td>3.46e-09</td>\n",
       "</tr>\n",
       "<tr>\n",
       "  <th>Time:</th>                 <td>15:21:24</td>     <th>  Log-Likelihood:    </th> <td> -71.955</td>\n",
       "</tr>\n",
       "<tr>\n",
       "  <th>No. Observations:</th>      <td>    32</td>      <th>  AIC:               </th> <td>   157.9</td>\n",
       "</tr>\n",
       "<tr>\n",
       "  <th>Df Residuals:</th>          <td>    25</td>      <th>  BIC:               </th> <td>   168.2</td>\n",
       "</tr>\n",
       "<tr>\n",
       "  <th>Df Model:</th>              <td>     6</td>      <th>                     </th>     <td> </td>   \n",
       "</tr>\n",
       "<tr>\n",
       "  <th>Covariance Type:</th>      <td>nonrobust</td>    <th>                     </th>     <td> </td>   \n",
       "</tr>\n",
       "</table>\n",
       "<table class=\"simpletable\">\n",
       "<tr>\n",
       "    <td></td>       <th>coef</th>     <th>std err</th>      <th>t</th>      <th>P>|t|</th>  <th>[0.025</th>    <th>0.975]</th>  \n",
       "</tr>\n",
       "<tr>\n",
       "  <th>const</th> <td>   38.1047</td> <td>   12.967</td> <td>    2.939</td> <td> 0.007</td> <td>   11.398</td> <td>   64.811</td>\n",
       "</tr>\n",
       "<tr>\n",
       "  <th>cyl</th>   <td>   -1.1980</td> <td>    0.744</td> <td>   -1.610</td> <td> 0.120</td> <td>   -2.731</td> <td>    0.335</td>\n",
       "</tr>\n",
       "<tr>\n",
       "  <th>disp</th>  <td>    0.0124</td> <td>    0.012</td> <td>    1.015</td> <td> 0.320</td> <td>   -0.013</td> <td>    0.038</td>\n",
       "</tr>\n",
       "<tr>\n",
       "  <th>hp</th>    <td>   -0.0054</td> <td>    0.041</td> <td>   -0.131</td> <td> 0.897</td> <td>   -0.090</td> <td>    0.079</td>\n",
       "</tr>\n",
       "<tr>\n",
       "  <th>wt</th>    <td>   -4.6785</td> <td>    2.087</td> <td>   -2.242</td> <td> 0.034</td> <td>   -8.977</td> <td>   -0.380</td>\n",
       "</tr>\n",
       "<tr>\n",
       "  <th>qsec</th>  <td>    0.2238</td> <td>    0.508</td> <td>    0.440</td> <td> 0.664</td> <td>   -0.823</td> <td>    1.271</td>\n",
       "</tr>\n",
       "<tr>\n",
       "  <th>ratio</th> <td>   -0.0357</td> <td>    0.130</td> <td>   -0.274</td> <td> 0.786</td> <td>   -0.304</td> <td>    0.232</td>\n",
       "</tr>\n",
       "</table>\n",
       "<table class=\"simpletable\">\n",
       "<tr>\n",
       "  <th>Omnibus:</th>       <td> 4.333</td> <th>  Durbin-Watson:     </th> <td>   1.719</td>\n",
       "</tr>\n",
       "<tr>\n",
       "  <th>Prob(Omnibus):</th> <td> 0.115</td> <th>  Jarque-Bera (JB):  </th> <td>   3.092</td>\n",
       "</tr>\n",
       "<tr>\n",
       "  <th>Skew:</th>          <td> 0.743</td> <th>  Prob(JB):          </th> <td>   0.213</td>\n",
       "</tr>\n",
       "<tr>\n",
       "  <th>Kurtosis:</th>      <td> 3.330</td> <th>  Cond. No.          </th> <td>8.73e+03</td>\n",
       "</tr>\n",
       "</table><br/><br/>Warnings:<br/>[1] Standard Errors assume that the covariance matrix of the errors is correctly specified.<br/>[2] The condition number is large, 8.73e+03. This might indicate that there are<br/>strong multicollinearity or other numerical problems."
      ],
      "text/plain": [
       "<class 'statsmodels.iolib.summary.Summary'>\n",
       "\"\"\"\n",
       "                            OLS Regression Results                            \n",
       "==============================================================================\n",
       "Dep. Variable:                      y   R-squared:                       0.851\n",
       "Model:                            OLS   Adj. R-squared:                  0.815\n",
       "Method:                 Least Squares   F-statistic:                     23.73\n",
       "Date:                Wed, 26 Sep 2018   Prob (F-statistic):           3.46e-09\n",
       "Time:                        15:21:24   Log-Likelihood:                -71.955\n",
       "No. Observations:                  32   AIC:                             157.9\n",
       "Df Residuals:                      25   BIC:                             168.2\n",
       "Df Model:                           6                                         \n",
       "Covariance Type:            nonrobust                                         \n",
       "==============================================================================\n",
       "                 coef    std err          t      P>|t|      [0.025      0.975]\n",
       "------------------------------------------------------------------------------\n",
       "const         38.1047     12.967      2.939      0.007      11.398      64.811\n",
       "cyl           -1.1980      0.744     -1.610      0.120      -2.731       0.335\n",
       "disp           0.0124      0.012      1.015      0.320      -0.013       0.038\n",
       "hp            -0.0054      0.041     -0.131      0.897      -0.090       0.079\n",
       "wt            -4.6785      2.087     -2.242      0.034      -8.977      -0.380\n",
       "qsec           0.2238      0.508      0.440      0.664      -0.823       1.271\n",
       "ratio         -0.0357      0.130     -0.274      0.786      -0.304       0.232\n",
       "==============================================================================\n",
       "Omnibus:                        4.333   Durbin-Watson:                   1.719\n",
       "Prob(Omnibus):                  0.115   Jarque-Bera (JB):                3.092\n",
       "Skew:                           0.743   Prob(JB):                        0.213\n",
       "Kurtosis:                       3.330   Cond. No.                     8.73e+03\n",
       "==============================================================================\n",
       "\n",
       "Warnings:\n",
       "[1] Standard Errors assume that the covariance matrix of the errors is correctly specified.\n",
       "[2] The condition number is large, 8.73e+03. This might indicate that there are\n",
       "strong multicollinearity or other numerical problems.\n",
       "\"\"\""
      ]
     },
     "execution_count": 14,
     "metadata": {},
     "output_type": "execute_result"
    }
   ],
   "source": [
    "# your code here\n",
    "edit2 = df.copy()\n",
    "edit2['ratio'] = edit2['hp']/edit2['wt']\n",
    "y = edit2[['mpg']].values\n",
    "X = edit2[['cyl','disp','hp','wt','qsec','ratio']]\n",
    "X = sm.add_constant(X)\n",
    "regression7_2 = sm.OLS(y, X).fit()\n",
    "regression7_2.summary()"
   ]
  },
  {
   "cell_type": "code",
   "execution_count": 15,
   "metadata": {},
   "outputs": [
    {
     "data": {
      "text/plain": [
       "matrix([[ 1.31364204e+02, -4.03411322e+00,  2.64003168e-02,\n",
       "          1.73895316e-01, -6.48109273e+00, -4.45327514e+00,\n",
       "         -8.27216976e-01],\n",
       "        [-4.03411322e+00,  4.32669644e-01, -3.53619428e-03,\n",
       "         -5.55849937e-03,  5.97565360e-02,  1.17152717e-01,\n",
       "          1.55494331e-02],\n",
       "        [ 2.64003168e-02, -3.53619428e-03,  1.17236263e-04,\n",
       "          3.21362989e-05, -9.42244866e-03,  1.16522070e-04,\n",
       "         -1.77534775e-04],\n",
       "        [ 1.73895316e-01, -5.55849937e-03,  3.21362989e-05,\n",
       "          1.32011220e-03, -5.30309602e-02,  3.08890097e-04,\n",
       "         -3.87032899e-03],\n",
       "        [-6.48109273e+00,  5.97565360e-02, -9.42244866e-03,\n",
       "         -5.30309602e-02,  3.40347944e+00, -1.40300725e-01,\n",
       "          1.68053347e-01],\n",
       "        [-4.45327514e+00,  1.17152717e-01,  1.16522070e-04,\n",
       "          3.08890097e-04, -1.40300725e-01,  2.01849775e-01,\n",
       "          1.11352886e-02],\n",
       "        [-8.27216976e-01,  1.55494331e-02, -1.77534775e-04,\n",
       "         -3.87032899e-03,  1.68053347e-01,  1.11352886e-02,\n",
       "          1.32409568e-02]])"
      ]
     },
     "execution_count": 15,
     "metadata": {},
     "output_type": "execute_result"
    }
   ],
   "source": [
    "y_pred = regression7_2.get_prediction(X).summary_frame()['mean']\n",
    "s = []\n",
    "for i in range(len(y)):\n",
    "    s.append(np.power((y_pred[i] -y[i]), 2))\n",
    "squaredse = np.mean(s)\n",
    "cov = squaredse*(np.matrix(X).T*np.matrix(X)).I\n",
    "cov"
   ]
  },
  {
   "cell_type": "markdown",
   "metadata": {},
   "source": [
    "*Your answer here*\n",
    "\n",
    "There is an inflation in the standard error of the effect exerted by the variable 'weight', and the p-value of the effect of 'weight' increases from 0.002 to 0.034, meaning that we are less certain."
   ]
  },
  {
   "cell_type": "markdown",
   "metadata": {},
   "source": [
    "**7.3 Create a separate dataset `edit3` with a new column `combo` that is horsepower+displacement+weight+ Normal(0,.01) noise... **"
   ]
  },
  {
   "cell_type": "code",
   "execution_count": 16,
   "metadata": {},
   "outputs": [
    {
     "data": {
      "text/html": [
       "<table class=\"simpletable\">\n",
       "<caption>OLS Regression Results</caption>\n",
       "<tr>\n",
       "  <th>Dep. Variable:</th>            <td>y</td>        <th>  R-squared:         </th> <td>   0.853</td>\n",
       "</tr>\n",
       "<tr>\n",
       "  <th>Model:</th>                   <td>OLS</td>       <th>  Adj. R-squared:    </th> <td>   0.818</td>\n",
       "</tr>\n",
       "<tr>\n",
       "  <th>Method:</th>             <td>Least Squares</td>  <th>  F-statistic:       </th> <td>   24.18</td>\n",
       "</tr>\n",
       "<tr>\n",
       "  <th>Date:</th>             <td>Wed, 26 Sep 2018</td> <th>  Prob (F-statistic):</th> <td>2.84e-09</td>\n",
       "</tr>\n",
       "<tr>\n",
       "  <th>Time:</th>                 <td>15:21:24</td>     <th>  Log-Likelihood:    </th> <td> -71.697</td>\n",
       "</tr>\n",
       "<tr>\n",
       "  <th>No. Observations:</th>      <td>    32</td>      <th>  AIC:               </th> <td>   157.4</td>\n",
       "</tr>\n",
       "<tr>\n",
       "  <th>Df Residuals:</th>          <td>    25</td>      <th>  BIC:               </th> <td>   167.7</td>\n",
       "</tr>\n",
       "<tr>\n",
       "  <th>Df Model:</th>              <td>     6</td>      <th>                     </th>     <td> </td>   \n",
       "</tr>\n",
       "<tr>\n",
       "  <th>Covariance Type:</th>      <td>nonrobust</td>    <th>                     </th>     <td> </td>   \n",
       "</tr>\n",
       "</table>\n",
       "<table class=\"simpletable\">\n",
       "<tr>\n",
       "    <td></td>       <th>coef</th>     <th>std err</th>      <th>t</th>      <th>P>|t|</th>  <th>[0.025</th>    <th>0.975]</th>  \n",
       "</tr>\n",
       "<tr>\n",
       "  <th>const</th> <td>   37.8708</td> <td>   10.423</td> <td>    3.633</td> <td> 0.001</td> <td>   16.404</td> <td>   59.337</td>\n",
       "</tr>\n",
       "<tr>\n",
       "  <th>cyl</th>   <td>   -1.2953</td> <td>    0.750</td> <td>   -1.728</td> <td> 0.096</td> <td>   -2.840</td> <td>    0.249</td>\n",
       "</tr>\n",
       "<tr>\n",
       "  <th>disp</th>  <td>   36.3484</td> <td>   52.321</td> <td>    0.695</td> <td> 0.494</td> <td>  -71.408</td> <td>  144.105</td>\n",
       "</tr>\n",
       "<tr>\n",
       "  <th>hp</th>    <td>   36.3186</td> <td>   52.318</td> <td>    0.694</td> <td> 0.494</td> <td>  -71.432</td> <td>  144.069</td>\n",
       "</tr>\n",
       "<tr>\n",
       "  <th>wt</th>    <td>   32.2091</td> <td>   52.477</td> <td>    0.614</td> <td> 0.545</td> <td>  -75.869</td> <td>  140.287</td>\n",
       "</tr>\n",
       "<tr>\n",
       "  <th>qsec</th>  <td>    0.1688</td> <td>    0.507</td> <td>    0.333</td> <td> 0.742</td> <td>   -0.876</td> <td>    1.214</td>\n",
       "</tr>\n",
       "<tr>\n",
       "  <th>combo</th> <td>  -36.3352</td> <td>   52.319</td> <td>   -0.694</td> <td> 0.494</td> <td> -144.088</td> <td>   71.418</td>\n",
       "</tr>\n",
       "</table>\n",
       "<table class=\"simpletable\">\n",
       "<tr>\n",
       "  <th>Omnibus:</th>       <td> 3.973</td> <th>  Durbin-Watson:     </th> <td>   1.608</td>\n",
       "</tr>\n",
       "<tr>\n",
       "  <th>Prob(Omnibus):</th> <td> 0.137</td> <th>  Jarque-Bera (JB):  </th> <td>   2.556</td>\n",
       "</tr>\n",
       "<tr>\n",
       "  <th>Skew:</th>          <td> 0.633</td> <th>  Prob(JB):          </th> <td>   0.279</td>\n",
       "</tr>\n",
       "<tr>\n",
       "  <th>Kurtosis:</th>      <td> 3.560</td> <th>  Cond. No.          </th> <td>1.20e+05</td>\n",
       "</tr>\n",
       "</table><br/><br/>Warnings:<br/>[1] Standard Errors assume that the covariance matrix of the errors is correctly specified.<br/>[2] The condition number is large, 1.2e+05. This might indicate that there are<br/>strong multicollinearity or other numerical problems."
      ],
      "text/plain": [
       "<class 'statsmodels.iolib.summary.Summary'>\n",
       "\"\"\"\n",
       "                            OLS Regression Results                            \n",
       "==============================================================================\n",
       "Dep. Variable:                      y   R-squared:                       0.853\n",
       "Model:                            OLS   Adj. R-squared:                  0.818\n",
       "Method:                 Least Squares   F-statistic:                     24.18\n",
       "Date:                Wed, 26 Sep 2018   Prob (F-statistic):           2.84e-09\n",
       "Time:                        15:21:24   Log-Likelihood:                -71.697\n",
       "No. Observations:                  32   AIC:                             157.4\n",
       "Df Residuals:                      25   BIC:                             167.7\n",
       "Df Model:                           6                                         \n",
       "Covariance Type:            nonrobust                                         \n",
       "==============================================================================\n",
       "                 coef    std err          t      P>|t|      [0.025      0.975]\n",
       "------------------------------------------------------------------------------\n",
       "const         37.8708     10.423      3.633      0.001      16.404      59.337\n",
       "cyl           -1.2953      0.750     -1.728      0.096      -2.840       0.249\n",
       "disp          36.3484     52.321      0.695      0.494     -71.408     144.105\n",
       "hp            36.3186     52.318      0.694      0.494     -71.432     144.069\n",
       "wt            32.2091     52.477      0.614      0.545     -75.869     140.287\n",
       "qsec           0.1688      0.507      0.333      0.742      -0.876       1.214\n",
       "combo        -36.3352     52.319     -0.694      0.494    -144.088      71.418\n",
       "==============================================================================\n",
       "Omnibus:                        3.973   Durbin-Watson:                   1.608\n",
       "Prob(Omnibus):                  0.137   Jarque-Bera (JB):                2.556\n",
       "Skew:                           0.633   Prob(JB):                        0.279\n",
       "Kurtosis:                       3.560   Cond. No.                     1.20e+05\n",
       "==============================================================================\n",
       "\n",
       "Warnings:\n",
       "[1] Standard Errors assume that the covariance matrix of the errors is correctly specified.\n",
       "[2] The condition number is large, 1.2e+05. This might indicate that there are\n",
       "strong multicollinearity or other numerical problems.\n",
       "\"\"\""
      ]
     },
     "execution_count": 16,
     "metadata": {},
     "output_type": "execute_result"
    }
   ],
   "source": [
    "# your code here\n",
    "edit3 = df.copy()\n",
    "edit3['combo'] = edit3['hp'] +  edit3['disp'] + edit3['wt'] + np.random.normal(0,0.01,len(df))\n",
    "y = edit3[['mpg']].values\n",
    "X = edit3[['cyl','disp','hp','wt','qsec','combo']]\n",
    "X = sm.add_constant(X)\n",
    "regression7_3 = sm.OLS(y, X).fit()\n",
    "regression7_3.summary()"
   ]
  },
  {
   "cell_type": "code",
   "execution_count": 17,
   "metadata": {},
   "outputs": [
    {
     "data": {
      "text/plain": [
       "matrix([[ 8.48728007e+01, -3.46425818e+00,  1.17565362e+02,\n",
       "          1.17477050e+02,  1.21820890e+02, -3.97260956e+00,\n",
       "         -1.17546442e+02],\n",
       "        [-3.46425818e+00,  4.39200975e-01, -8.19950445e+00,\n",
       "         -8.19677867e+00, -8.35372269e+00,  1.21589896e-01,\n",
       "          8.19596108e+00],\n",
       "        [ 1.17565362e+02, -8.19950445e+00,  2.13863334e+03,\n",
       "          2.13851619e+03,  2.14439139e+03, -5.00341771e+00,\n",
       "         -2.13856308e+03],\n",
       "        [ 1.17477050e+02, -8.19677866e+00,  2.13851619e+03,\n",
       "          2.13839939e+03,  2.14427727e+03, -4.99989871e+00,\n",
       "         -2.13844607e+03],\n",
       "        [ 1.21820890e+02, -8.35372269e+00,  2.14439139e+03,\n",
       "          2.14427727e+03,  2.15142947e+03, -5.29429811e+00,\n",
       "         -2.14432811e+03],\n",
       "        [-3.97260956e+00,  1.21589896e-01, -5.00341771e+00,\n",
       "         -4.99989871e+00, -5.29429811e+00,  2.01117338e-01,\n",
       "          5.00351518e+00],\n",
       "        [-1.17546442e+02,  8.19596108e+00, -2.13856308e+03,\n",
       "         -2.13844607e+03, -2.14432811e+03,  5.00351517e+00,\n",
       "          2.13849294e+03]])"
      ]
     },
     "execution_count": 17,
     "metadata": {},
     "output_type": "execute_result"
    }
   ],
   "source": [
    "y_pred = regression7_3.get_prediction(X).summary_frame()['mean']\n",
    "s = []\n",
    "for i in range(len(y)):\n",
    "    s.append(np.power((y_pred[i] -y[i]), 2))\n",
    "squaredse = np.mean(s)\n",
    "cov = squaredse*(np.matrix(X).T*np.matrix(X)).I\n",
    "cov"
   ]
  },
  {
   "cell_type": "markdown",
   "metadata": {},
   "source": [
    "*Your answer here*\n",
    "\n",
    "The standard errors of the effects of horsepower, displacement and weight all increase to really large values and we cannot estimate the betas well in this situation. Predictors disp, hp, wt and combo are correlated in this case. We can see that the 3rd, 4th and 5th column of the covariance matrix is quite large."
   ]
  },
  {
   "cell_type": "markdown",
   "metadata": {},
   "source": [
    "**7.4 If you could choose the different features in your data (either because you're running a lab experiment manipulating the X values, ... **"
   ]
  },
  {
   "cell_type": "markdown",
   "metadata": {},
   "source": [
    "*your answer here*\n",
    "\n",
    "Firstly, there sould not be strong linear relationships among different features. Collinearity leads to large standard errors of betas, which diminishes our confidence and certainty of the model. \n",
    "\n",
    "Secondly, the features should all contribute to explanation of variance of dependent variable. Pure noise in the model will also increase the standard errors of betas in the model."
   ]
  },
  {
   "cell_type": "code",
   "execution_count": null,
   "metadata": {},
   "outputs": [],
   "source": []
  }
 ],
 "metadata": {
  "anaconda-cloud": {},
  "kernelspec": {
   "display_name": "Python 3",
   "language": "python",
   "name": "python3"
  },
  "language_info": {
   "codemirror_mode": {
    "name": "ipython",
    "version": 3
   },
   "file_extension": ".py",
   "mimetype": "text/x-python",
   "name": "python",
   "nbconvert_exporter": "python",
   "pygments_lexer": "ipython3",
   "version": "3.6.5"
  }
 },
 "nbformat": 4,
 "nbformat_minor": 2
}
